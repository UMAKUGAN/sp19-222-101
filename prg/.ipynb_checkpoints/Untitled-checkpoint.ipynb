{
 "cells": [
  {
   "cell_type": "code",
   "execution_count": 1,
   "metadata": {},
   "outputs": [],
   "source": [
    "import KNN"
   ]
  },
  {
   "cell_type": "code",
   "execution_count": 2,
   "metadata": {},
   "outputs": [
    {
     "ename": "TypeError",
     "evalue": "normalize() missing 1 required positional argument: 'singleCar'",
     "output_type": "error",
     "traceback": [
      "\u001b[0;31m---------------------------------------------------------------------------\u001b[0m",
      "\u001b[0;31mTypeError\u001b[0m                                 Traceback (most recent call last)",
      "\u001b[0;32m<ipython-input-2-8e7cf3bff83a>\u001b[0m in \u001b[0;36m<module>\u001b[0;34m()\u001b[0m\n\u001b[1;32m      1\u001b[0m \u001b[0mmalibu\u001b[0m \u001b[0;34m=\u001b[0m \u001b[0;34m[\u001b[0m\u001b[0;36m118\u001b[0m\u001b[0;34m,\u001b[0m \u001b[0;36m1\u001b[0m\u001b[0;34m,\u001b[0m \u001b[0;36m2000\u001b[0m\u001b[0;34m,\u001b[0m \u001b[0;36m1\u001b[0m\u001b[0;34m]\u001b[0m\u001b[0;34m\u001b[0m\u001b[0;34m\u001b[0m\u001b[0m\n\u001b[1;32m      2\u001b[0m \u001b[0mdist\u001b[0m\u001b[0;34m,\u001b[0m \u001b[0mcars\u001b[0m \u001b[0;34m=\u001b[0m \u001b[0mKNN\u001b[0m\u001b[0;34m.\u001b[0m\u001b[0mfindNeighbors\u001b[0m\u001b[0;34m(\u001b[0m\u001b[0mmalibu\u001b[0m\u001b[0;34m)\u001b[0m\u001b[0;34m\u001b[0m\u001b[0;34m\u001b[0m\u001b[0m\n\u001b[0;32m----> 3\u001b[0;31m \u001b[0mcarsNorm\u001b[0m\u001b[0;34m,\u001b[0m \u001b[0mmalibuNorm\u001b[0m \u001b[0;34m=\u001b[0m \u001b[0mKNN\u001b[0m\u001b[0;34m.\u001b[0m\u001b[0mnormalize\u001b[0m\u001b[0;34m(\u001b[0m\u001b[0mcars\u001b[0m\u001b[0;34m)\u001b[0m\u001b[0;34m\u001b[0m\u001b[0;34m\u001b[0m\u001b[0m\n\u001b[0m",
      "\u001b[0;31mTypeError\u001b[0m: normalize() missing 1 required positional argument: 'singleCar'"
     ]
    }
   ],
   "source": [
    "malibu = [118, 1, 2000, 1]\n",
    "dist, cars = KNN.findNeighbors(malibu)\n",
    "carsNorm, malibuNorm = KNN.normalize(cars, malibu)"
   ]
  },
  {
   "cell_type": "code",
   "execution_count": 3,
   "metadata": {},
   "outputs": [
    {
     "name": "stdout",
     "output_type": "stream",
     "text": [
      "Name\t\tTop Speed\tAuto\tYear\tColor\tFast\n",
      "Honda Civic\t130.00\t\t1.00\t2012.00\t1.00\t0.00\n",
      "Jeep Wrangler\t110.00\t\t0.00\t1992.00\t6.00\t0.00\n",
      "Audi a4\t\t175.00\t\t1.00\t2007.00\t3.00\t1.00\n",
      "Ford Focus\t120.00\t\t1.00\t2014.00\t4.00\t0.00\n",
      "Aaturn Aura\t110.00\t\t1.00\t2009.00\t4.00\t0.00\n",
      "Chevy Equinox\t100.00\t\t1.00\t2014.00\t3.00\t0.00\n",
      "Infiniti 635\t151.00\t\t1.00\t2006.00\t6.00\t1.00\n",
      "Veloz Scooter\t35.00\t\t1.00\t2017.00\t1.00\t0.00\n",
      "Lambourgini\t217.00\t\t0.00\t2019.00\t6.00\t1.00\n",
      "Nissan Sentra\t181.00\t\t1.00\t2003.00\t3.00\t0.00\n"
     ]
    }
   ],
   "source": [
    "KNN.printCars(cars)"
   ]
  },
  {
   "cell_type": "code",
   "execution_count": 4,
   "metadata": {},
   "outputs": [
    {
     "name": "stdout",
     "output_type": "stream",
     "text": [
      "Name\t\tTop Speed\tAuto\tYear\tColor\tFast\n",
      "Honda Civic\t-0.06\t\t1.00\t0.36\t-1.51\t0.00\n",
      "Jeep Wrangler\t-0.47\t\t0.00\t-2.31\t1.28\t0.00\n",
      "Audi a4\t\t0.87\t\t1.00\t-0.31\t-0.39\t1.00\n",
      "Ford Focus\t-0.27\t\t1.00\t0.63\t0.17\t0.00\n",
      "Aaturn Aura\t-0.47\t\t1.00\t-0.04\t0.17\t0.00\n",
      "Chevy Equinox\t-0.68\t\t1.00\t0.63\t-0.39\t0.00\n",
      "Infiniti 635\t0.37\t\t1.00\t-0.44\t1.28\t1.00\n",
      "Veloz Scooter\t-2.02\t\t1.00\t1.03\t-1.51\t0.00\n",
      "Lambourgini\t1.74\t\t0.00\t1.30\t1.28\t1.00\n",
      "Nissan Sentra\t0.99\t\t1.00\t-0.84\t-0.39\t0.00\n"
     ]
    }
   ],
   "source": [
    "normal = KNN.normalize(cars)\n",
    "KNN.printCars(normal)"
   ]
  },
  {
   "cell_type": "code",
   "execution_count": null,
   "metadata": {
    "collapsed": true
   },
   "outputs": [],
   "source": []
  }
 ],
 "metadata": {
  "kernelspec": {
   "display_name": "Python 3",
   "language": "python",
   "name": "python3"
  },
  "language_info": {
   "codemirror_mode": {
    "name": "ipython",
    "version": 3
   },
   "file_extension": ".py",
   "mimetype": "text/x-python",
   "name": "python",
   "nbconvert_exporter": "python",
   "pygments_lexer": "ipython3",
   "version": "3.6.8"
  }
 },
 "nbformat": 4,
 "nbformat_minor": 2
}
