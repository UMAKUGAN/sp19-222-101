{
 "cells": [
  {
   "cell_type": "code",
   "execution_count": 1,
   "metadata": {},
   "outputs": [
    {
     "name": "stdout",
     "output_type": "stream",
     "text": [
      "[[16.97056274847714, 'honda civic'], [11.135528725660043, 'jeep wrangler'], [57.41080037762929, 'audi a4'], [14.035668847618199, 'ford focus'], [11.916375287812984, 'saturn aura'], [22.759613353482084, 'chevy equinox'], [33.46640106136302, 'infiniti 635'], [84.72307831990054, 'veloz scooter'], [100.7869039111729, 'lambourgini'], [63.05553108173778, 'nissan sentra']]\n",
      "\n",
      "[[130, 1, 2012, 1, 0, 'honda civic'], [110, 0, 1992, 6, 0, 'jeep wrangler'], [175, 1, 2007, 3, 1, 'audi a4'], [120, 1, 2014, 4, 0, 'ford focus'], [110, 1, 2009, 4, 0, 'saturn aura'], [100, 1, 2014, 3, 0, 'chevy equinox'], [151, 1, 2006, 6, 1, 'infiniti 635'], [35, 1, 2017, 1, 0, 'veloz scooter'], [217, 0, 2019, 6, 1, 'lambourgini'], [181, 1, 2003, 3, 0, 'nissan sentra']]\n",
      "The malibu is closest to the jeep wrangler\n"
     ]
    }
   ],
   "source": [
    "import distance"
   ]
  },
  {
   "cell_type": "code",
   "execution_count": null,
   "metadata": {
    "collapsed": true
   },
   "outputs": [],
   "source": []
  }
 ],
 "metadata": {
  "kernelspec": {
   "display_name": "Python 3",
   "language": "python",
   "name": "python3"
  },
  "language_info": {
   "codemirror_mode": {
    "name": "ipython",
    "version": 3
   },
   "file_extension": ".py",
   "mimetype": "text/x-python",
   "name": "python",
   "nbconvert_exporter": "python",
   "pygments_lexer": "ipython3",
   "version": "3.6.8"
  }
 },
 "nbformat": 4,
 "nbformat_minor": 2
}
